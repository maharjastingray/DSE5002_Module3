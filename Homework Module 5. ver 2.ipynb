{
 "cells": [
  {
   "cell_type": "code",
   "execution_count": null,
   "id": "1c69b7ab-295c-4077-9d90-c0b19e38f8a0",
   "metadata": {},
   "outputs": [],
   "source": [
    "# Module 05 Lab 01\n",
    "\n",
    "HD Sheets\n",
    "11/13/2024\n",
    "\n",
    "Material from \"Think Python\" by Allen Downey\n",
    "\n",
    "https://allendowney.github.io/ThinkPython/index.html\n",
    "\n",
    "Chapters 1 and 2"
   ]
  },
  {
   "cell_type": "markdown",
   "id": "6bf0b65c-e497-407e-ba51-785b3ff19ece",
   "metadata": {},
   "source": [
    "## Exercise 1.9.2\n",
    "\n",
    "See the book, run the examples from the book below and then give your explanation\n",
    "\n",
    "Test your explanation, using several example values\n",
    "\n",
    "https://allendowney.github.io/ThinkPython/chap01.html\n"
   ]
  },
  {
   "cell_type": "code",
   "execution_count": null,
   "id": "f943759c-43d2-46dc-b1c4-fcb907b082a1",
   "metadata": {},
   "outputs": [],
   "source": [
    "# code for 1.9.2\n",
    "You might wonder what round does if a number ends in 0.5. The answer is that it sometimes rounds up and sometimes rounds down. Try these examples and see if you can figure out what rule it follows.\n",
    "\n",
    "round(42.5)\n",
    "\n",
    "42\n",
    "\n",
    "round(43.5)\n",
    "\n",
    "44\n",
    "\n",
    "#If you are curious, ask a virtual assistant, “If a number ends in 0.5, does Python round up or down?”"
   ]
  },
  {
   "cell_type": "code",
   "execution_count": null,
   "id": "292b03bf-5beb-495c-bc2c-9491c1c284de",
   "metadata": {},
   "outputs": [],
   "source": [
    "# Exercise 1.9.3\n",
    "#You can use a minus sign to make a negative number like -2. What happens if you put a plus sign before a number? What about 2++2?\n",
    "#Ans: Syntax error operator does not exist in Python.\n",
    "#What happens if you have two values with no operator between them, like 4 2?\n",
    "#Ans: Syntax error Python does not know how to interpret.\n",
    "#If you call a function like round(42.5), what happens if you leave out one or both parentheses?\n",
    "#Ans: Syntax error not recognized as a function call."
   ]
  },
  {
   "cell_type": "markdown",
   "id": "bdd82fc4-9d76-4297-8ae4-095c0054f0b0",
   "metadata": {},
   "source": [
    "## Exercise 1.9.5 \n",
    "\n",
    "Show one code cell for each of the 5 questions in this exercise"
   ]
  },
  {
   "cell_type": "code",
   "execution_count": null,
   "id": "786df988-ab33-4e38-be4f-58c553fde4c8",
   "metadata": {},
   "outputs": [],
   "source": [
    "# 1.9.5_1\n",
    "#How many seconds are there in 42 minutes 42 seconds?\n",
    "#(60*42)+42"
   ]
  },
  {
   "cell_type": "code",
   "execution_count": null,
   "id": "ba26ced8-b522-473f-b346-daf0751c1b20",
   "metadata": {},
   "outputs": [],
   "source": [
    "# 1.9.5_2\n",
    "#How many miles are there in 10 kilometers? Hint: there are 1.61 kilometers in a mile.\n",
    "#10/1.61"
   ]
  },
  {
   "cell_type": "code",
   "execution_count": null,
   "id": "5a999593-0b06-4655-8b7d-236cb9b64619",
   "metadata": {},
   "outputs": [],
   "source": [
    "# 1.9.5_3\n",
    "#If you run a 10 kilometer race in 42 minutes 42 seconds, what is your average pace in seconds per mile?\n",
    "#(42*60+42)/(10/1.61)\n"
   ]
  },
  {
   "cell_type": "code",
   "execution_count": null,
   "id": "5430cdf8-b913-4e77-b24d-e70775f91c63",
   "metadata": {},
   "outputs": [],
   "source": [
    "# 1.9.5_4\n",
    "#What is your average pace in minutes and seconds per mile?\n",
    "#((42*60)/(10/1.61))/60 min  42/(10/1.61) seconds"
   ]
  },
  {
   "cell_type": "code",
   "execution_count": null,
   "id": "c3a57457-145f-40aa-96a9-ff0fe315a8bf",
   "metadata": {},
   "outputs": [],
   "source": [
    "# 1.9.5_5\n",
    "#What is your average speed in miles per hour?\n",
    "#(10/1.61)/((42*60)+42)/60)/60"
   ]
  },
  {
   "cell_type": "markdown",
   "id": "98272647-beb5-460a-be5b-844472e06683",
   "metadata": {},
   "source": [
    "## Exercise 2.11.2\n",
    "\n",
    "https://allendowney.github.io/ThinkPython/chap02.html"
   ]
  },
  {
   "cell_type": "code",
   "execution_count": null,
   "id": "fe76e584-6190-40f7-8ab9-6f32b6bbdd6f",
   "metadata": {},
   "outputs": [],
   "source": [
    "#We’ve seen that n = 17 is legal. What about 17 = n? Ans: illegal \n",
    "#How about x = y = 1? Ans: legal\n",
    "#In some languages every statement ends with a semi-colon (;). What happens if you put a semi-colon at the end of a Python statement? Ans: legal for something like y = 1;\n",
    "#What if you put a period at the end of a statement? Ans: Same answer as above.\n",
    "#What happens if you spell the name of a module wrong and try to import maath? Ans: \"module not found error\""
   ]
  },
  {
   "cell_type": "markdown",
   "id": "f5bb1ec1-386e-462c-b57c-39be93fb86b7",
   "metadata": {},
   "source": [
    "## 2.11.3. Exercise\n",
    "\n",
    "Complete these 3 parts, with one part per cell\n",
    "\n",
    "https://allendowney.github.io/ThinkPython/chap02.html\n"
   ]
  },
  {
   "cell_type": "code",
   "execution_count": null,
   "id": "98e1c180-290a-42cb-848a-ee42bece4fdf",
   "metadata": {},
   "outputs": [],
   "source": [
    "#Practice using the Python interpreter as a calculator:\n",
    "\n",
    "#Part 1. The volume of a sphere with radius is \n",
    " \n",
    "#. What is the volume of a sphere with radius 5? Start with a variable named radius and then assign the result to a variable named volume. Display the result. Add comments to indicate that radius is in centimeters and volume in cubic centimeters.\n",
    "#Ans:\n",
    "#Part 2. A rule of trigonometry says that for any value of \n",
    ", \n",
    "#. Let’s see if it’s true for a specific value of \n",
    " #like 42.\n",
    "\n",
    "#Create a variable named x with this value. Then use math.cos and math.sin to compute the sine and cosine of \n",
    "#, and the sum of their squared.\n",
    "\n",
    "#The result should be close to 1. It might not be exactly 1 because floating-point arithmetic is not exact—it is only approximately correct.\n",
    "\n",
    "#Part 3. In addition to pi, the other variable defined in the math module is e, which represents the base of the natural logarithm, written in math notation as \n",
    "#. If you are not familiar with this value, ask a virtual assistant “What is math.e?” Now let’s compute three ways:\n",
    "\n",
    "#Use math.e and the exponentiation operator (**).\n",
    "#Use math.pow to raise math.e to the power 2.\n",
    "#Use math.exp, which takes as an argument a value, \n",
    "#, and computes \n",
    "#.\n",
    "#You might notice that the last result is slightly different from the other two. See if you can find out which is correct."
   ]
  }
 ],
 "metadata": {
  "kernelspec": {
   "display_name": "Python 3 (ipykernel)",
   "language": "python",
   "name": "python3"
  },
  "language_info": {
   "codemirror_mode": {
    "name": "ipython",
    "version": 3
   },
   "file_extension": ".py",
   "mimetype": "text/x-python",
   "name": "python",
   "nbconvert_exporter": "python",
   "pygments_lexer": "ipython3",
   "version": "3.12.7"
  }
 },
 "nbformat": 4,
 "nbformat_minor": 5
}
